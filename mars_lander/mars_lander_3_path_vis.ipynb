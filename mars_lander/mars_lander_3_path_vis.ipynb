{
 "cells": [
  {
   "cell_type": "code",
   "execution_count": 13,
   "id": "11b8a826",
   "metadata": {},
   "outputs": [],
   "source": [
    "import matplotlib.pyplot as plt\n",
    "from matplotlib import path as mlpPath\n",
    "from matplotlib.patches import Polygon\n",
    "import pandas as pd\n",
    "import numpy as np\n",
    "import math\n",
    "import heapq"
   ]
  },
  {
   "cell_type": "code",
   "execution_count": 3,
   "id": "26209d88",
   "metadata": {},
   "outputs": [],
   "source": [
    "def get_landing_target(x:list, y:list)->list:\n",
    "    prev_y = -1\n",
    "    prev_x = -1\n",
    "    left_x = 0\n",
    "    right_x = 0\n",
    "    for i in range(len(x)):\n",
    "        land_x = x[i]\n",
    "        land_y = y[i]\n",
    "\n",
    "        if prev_y == land_y:\n",
    "            target_x = prev_x + int((land_x - prev_x)/2)\n",
    "            target_y = land_y\n",
    "            left_x = prev_x\n",
    "            right_x = land_x\n",
    "        else:\n",
    "            prev_y = land_y\n",
    "            prev_x = land_x\n",
    "    \n",
    "    return [left_x, target_x, right_x, target_y]"
   ]
  },
  {
   "cell_type": "code",
   "execution_count": 4,
   "id": "aff6108c",
   "metadata": {},
   "outputs": [],
   "source": [
    "def set_fly_zone(x:list, y:list)->Polygon:\n",
    "    air_grid = [[0,2999]]\n",
    "    \n",
    "    for i in range(len(x)):\n",
    "        air_grid.append([x[i], y[i]])\n",
    "\n",
    "    air_grid.append([6999,2999])\n",
    "    return Polygon(np.array(air_grid))"
   ]
  },
  {
   "cell_type": "code",
   "execution_count": 6,
   "id": "2daeff8c",
   "metadata": {},
   "outputs": [],
   "source": [
    "def draw_path(path:list, x:list, y:list, start:tuple):\n",
    "    px = [n[0] for n in path]\n",
    "    py = [n[1] for n in path]\n",
    "    fig, ax = plt.subplots()\n",
    "    ax.plot(x, y, marker='o', linestyle='-')\n",
    "    ax.scatter(start[0], start[1], color='r')\n",
    "    ax.plot(px, py, marker='o', linestyle='-', color='r')"
   ]
  },
  {
   "cell_type": "code",
   "execution_count": 7,
   "id": "e71212d6",
   "metadata": {},
   "outputs": [],
   "source": [
    "x = [0, 300, 1000, 2000, 2500, 3700, 4700, 4750, 4700, 4000, 3700, 3750, 4000, 4900, 5100, 5500, 6200, 6999]\n",
    "y = [1800, 1200, 1550, 1200, 1650, 220, 220, 1000, 1650, 1700, 1600, 1900, 2100, 2050, 1000, 500, 800, 600]\n",
    "rocket_x, rocket_y = [6500, 2000]"
   ]
  },
  {
   "cell_type": "code",
   "execution_count": 8,
   "id": "2cfecaaa",
   "metadata": {},
   "outputs": [],
   "source": [
    "left_x, target_x, right_x, target_y = get_landing_target(x, y)\n",
    "target_y += 100\n",
    "p = set_fly_zone(x, y)"
   ]
  },
  {
   "cell_type": "code",
   "execution_count": 9,
   "id": "e3846b59",
   "metadata": {},
   "outputs": [],
   "source": [
    "def valid_loc(id: tuple, p: Polygon) -> bool:\n",
    "    return p.contains_point(id)"
   ]
  },
  {
   "cell_type": "code",
   "execution_count": 10,
   "id": "8781e93c",
   "metadata": {},
   "outputs": [],
   "source": [
    "def get_neighbors(id: tuple, p: Polygon) -> list:\n",
    "    x, y = id\n",
    "    step = 100\n",
    "    neighbors = [(x+step, y), (x-step, y), (x, y-step), (x, y+step)] # E W N S\n",
    "    # results = filter(self.in_bounds, neighbors)\n",
    "    results = [n for n in neighbors if valid_loc(n, p)]\n",
    "    return results"
   ]
  },
  {
   "cell_type": "code",
   "execution_count": 17,
   "id": "8761603b",
   "metadata": {},
   "outputs": [],
   "source": [
    "def heuristic(a: tuple, b: tuple) -> float:\n",
    "    return math.dist(a, b)"
   ]
  },
  {
   "cell_type": "code",
   "execution_count": 18,
   "id": "425d8a89",
   "metadata": {},
   "outputs": [],
   "source": [
    "def find_shortest_path(grid, start, end):\n",
    "    # Store exploration of the graph in another graph.\n",
    "    dist = {start: [start]}\n",
    "    cost_so_far = {start: 0}\n",
    "\n",
    "    # which neighbor did I explore ?\n",
    "    q = []\n",
    "    heapq.heappush(q, (0, start))\n",
    "    \n",
    "    while len(q):\n",
    "        # Where am I ?\n",
    "        at = heapq.heappop(q)[1]\n",
    "\n",
    "        for next in get_neighbors(at, grid):\n",
    "            # I don't want to explore twice the same node.\n",
    "            new_cost = cost_so_far[at] + 1\n",
    "            if next not in dist or new_cost < cost_so_far[next]:\n",
    "                cost_so_far[next] = new_cost\n",
    "                priority = new_cost + heuristic(next, end)\n",
    "                # How did I get there ?\n",
    "                dist[next] = dist[at] + [next]\n",
    "                # Add newly explored node to the list.\n",
    "                heapq.heappush(q, (priority, next))\n",
    "                \n",
    "            \n",
    "            # In our case, we don't need to explore the whole graph.\n",
    "            if next == end or heuristic(at, end) < 150:\n",
    "                q.clear()\n",
    "                break\n",
    "\n",
    "    return dist.get(next)"
   ]
  },
  {
   "cell_type": "code",
   "execution_count": 19,
   "id": "dd6c510e",
   "metadata": {},
   "outputs": [],
   "source": [
    "path = find_shortest_path(p, (rocket_x, rocket_y), (target_x, target_y))"
   ]
  },
  {
   "cell_type": "code",
   "execution_count": 20,
   "id": "01149c07",
   "metadata": {},
   "outputs": [
    {
     "data": {
      "image/png": "[encoded data removed]",
      "text/plain": [
       "<Figure size 432x288 with 1 Axes>"
      ]
     },
     "metadata": {
      "needs_background": "light"
     },
     "output_type": "display_data"
    }
   ],
   "source": [
    "draw_path(path, x, y, (rocket_x, rocket_y))"
   ]
  },
  {
   "cell_type": "code",
   "execution_count": 21,
   "id": "9f2d2789",
   "metadata": {},
   "outputs": [],
   "source": [
    "def get_main_points(path):\n",
    "    main_p = path[0]\n",
    "    main_points = []\n",
    "    for p in path:\n",
    "        x0, y0 = main_p\n",
    "        x1, y1 = p\n",
    "\n",
    "        if abs(y1 - y0) > 0 and math.dist(main_p, p) > 2000:\n",
    "            main_p = prev_p\n",
    "            main_points.append(main_p)\n",
    "\n",
    "        prev_p = (x1,y1)\n",
    "    \n",
    "    main_points.append(prev_p)\n",
    "    return main_points"
   ]
  },
  {
   "cell_type": "code",
   "execution_count": 22,
   "id": "50d68ec5",
   "metadata": {},
   "outputs": [],
   "source": [
    "main_points = get_main_points(path)"
   ]
  },
  {
   "cell_type": "code",
   "execution_count": 23,
   "id": "a22de909",
   "metadata": {},
   "outputs": [
    {
     "data": {
      "image/png": "[encoded data removed]",
      "text/plain": [
       "<Figure size 432x288 with 1 Axes>"
      ]
     },
     "metadata": {
      "needs_background": "light"
     },
     "output_type": "display_data"
    }
   ],
   "source": [
    "draw_path(main_points, x, y, (rocket_x, rocket_y))"
   ]
  },
  {
   "cell_type": "code",
   "execution_count": null,
   "id": "468e054d",
   "metadata": {},
   "outputs": [],
   "source": []
  }
 ],
 "metadata": {
  "kernelspec": {
   "display_name": "Python 3 (ipykernel)",
   "language": "python",
   "name": "python3"
  },
  "language_info": {
   "codemirror_mode": {
    "name": "ipython",
    "version": 3
   },
   "file_extension": ".py",
   "mimetype": "text/x-python",
   "name": "python",
   "nbconvert_exporter": "python",
   "pygments_lexer": "ipython3",
   "version": "3.8.10"
  }
 },
 "nbformat": 4,
 "nbformat_minor": 5
}
